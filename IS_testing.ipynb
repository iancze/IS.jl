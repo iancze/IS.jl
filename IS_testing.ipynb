{
 "metadata": {
  "language": "Julia",
  "name": ""
 },
 "nbformat": 3,
 "nbformat_minor": 0,
 "worksheets": [
  {
   "cells": [
    {
     "cell_type": "markdown",
     "metadata": {},
     "source": [
      "First, you want to add the Distributions package unless you want to code up your own standard distributions. For plotting, you want to add Winston."
     ]
    },
    {
     "cell_type": "code",
     "collapsed": false,
     "input": [
      "Pkg.add(\"Distributions\")\n",
      "Pkg.add(\"Winston\")"
     ],
     "language": "python",
     "metadata": {},
     "outputs": [
      {
       "output_type": "stream",
       "stream": "stderr",
       "text": [
        "INFO: Nothing to be done."
       ]
      },
      {
       "output_type": "stream",
       "stream": "stderr",
       "text": [
        "\n",
        "INFO: "
       ]
      },
      {
       "output_type": "stream",
       "stream": "stderr",
       "text": [
        "Nothing to be done.\n"
       ]
      }
     ],
     "prompt_number": 29
    },
    {
     "cell_type": "markdown",
     "metadata": {},
     "source": [
      "We're doing importance sampling, so we want to draw from some undrawable distribution \"f\" using another distrubition \"g\" that we know how to draw from.\n",
      "\n",
      "Set your parameters here (e.g.number of samples, mean vector and covariance matrix) here. \"eye(ndim)\" creates an ndim x ndim identity matrix."
     ]
    },
    {
     "cell_type": "code",
     "collapsed": false,
     "input": [
      "using Distributions\n",
      "\n",
      "ndim = 4\n",
      "nSamples = 100\n",
      "\n",
      "mu = zeros(ndim) #array of ndim zeroes\n",
      "sig = eye(ndim) * 0.8"
     ],
     "language": "python",
     "metadata": {},
     "outputs": [
      {
       "metadata": {},
       "output_type": "pyout",
       "prompt_number": 84,
       "text": [
        "0.40960000000000013"
       ]
      }
     ],
     "prompt_number": 84
    },
    {
     "cell_type": "markdown",
     "metadata": {},
     "source": [
      "rand(g) samples from distribution \"g\". In this case, \"g\" will be a multivariate normal (MvNormal). The second argument is the number of samples you want to draw. It returns a \"ndim x nSamples\" matrix."
     ]
    },
    {
     "cell_type": "code",
     "collapsed": false,
     "input": [
      "samplesFromG = rand(MvNormal(mu, sig), nSamples)"
     ],
     "language": "python",
     "metadata": {},
     "outputs": [
      {
       "metadata": {},
       "output_type": "pyout",
       "prompt_number": 80,
       "text": [
        "4x100 Array{Float64,2}:\n",
        " -0.233816    1.24225     0.0328473  \u2026  -1.07002    0.433164    0.19994 \n",
        "  0.769354    0.0255178   1.10158       -0.800428   0.0536101  -0.677474\n",
        "  0.0445905  -0.516634   -1.18724       -0.221969  -1.24175    -1.40331 \n",
        " -1.21988    -1.03093     0.274329       0.469198  -0.456635    2.72145 "
       ]
      }
     ],
     "prompt_number": 80
    },
    {
     "cell_type": "markdown",
     "metadata": {},
     "source": [
      "\n",
      "Now let's create our \"f\" function. "
     ]
    },
    {
     "cell_type": "code",
     "collapsed": false,
     "input": [
      "function likelihoodFunction(theta::Array{Float64,2}, sigF::Array{Float64,2})\n",
      "  ndim = size(theta,1)\n",
      "  ndata = size(theta,2)\n",
      "  mu = [ mean(theta[i,:]) for i in 1:ndim ]\n",
      "  likelihood = (2*pi)^(-ndim/2) * det(sigF)^(-0.5) * exp(-*(*(theta-mu,inv(sigF)),transpose(theta-mu) ))\n",
      "end\n",
      "\n",
      "function compute_covariance(theta::Array{Float64,2})\n",
      "  ndim = size(theta,1)\n",
      "  ndata = size(theta,2)\n",
      "  mu = [ mean(theta[i,:]) for i in 1:ndim ]\n",
      "  sigma = Array(Float64,ndim,ndim)\n",
      "  for i in 1:ndim, j in 1:ndim\n",
      "     sigma[i,j] = sum((theta[i,:].-mu[i]).*(theta[j,:].-mu[j]))\n",
      "  end\n",
      "  sigma /= ndata\n",
      "end\n",
      "    \n",
      "#Compute crappy (er...realistic) covariance matrix for f\n",
      "pop_init = rand(MvNormal(mu, sig), 10)\n",
      "sigF = compute_covariance(pop_init)\n",
      "\n"
     ],
     "language": "python",
     "metadata": {},
     "outputs": [
      {
       "metadata": {},
       "output_type": "pyout",
       "prompt_number": 94,
       "text": [
        "4x4 Array{Float64,2}:\n",
        "  1.52521   -0.654485    0.200037    0.239159\n",
        " -0.654485   0.494401    0.0810534  -0.156491\n",
        "  0.200037   0.0810534   0.70229    -0.123857\n",
        "  0.239159  -0.156491   -0.123857    0.358935"
       ]
      }
     ],
     "prompt_number": 94
    },
    {
     "cell_type": "code",
     "collapsed": false,
     "input": [
      "function compute_covariance(theta::Array{Float64,2})\n",
      "  ndim = size(theta,1)\n",
      "  ndata = size(theta,2)\n",
      "  mu = [ mean(theta[i,:]) for i in 1:ndim ]\n",
      "  sigma = Array(Float64,ndim,ndim)\n",
      "  for i in 1:ndim, j in 1:ndim\n",
      "     sigma[i,j] = sum((theta[i,:].-mu[i]).*(theta[j,:].-mu[j]))\n",
      "  end\n",
      "  sigma /= ndata\n",
      "end"
     ],
     "language": "python",
     "metadata": {},
     "outputs": [
      {
       "metadata": {},
       "output_type": "pyout",
       "prompt_number": 85,
       "text": [
        "compute_covariance (generic function with 1 method)"
       ]
      }
     ],
     "prompt_number": 85
    },
    {
     "cell_type": "code",
     "collapsed": false,
     "input": [],
     "language": "python",
     "metadata": {},
     "outputs": []
    }
   ],
   "metadata": {}
  }
 ]
}
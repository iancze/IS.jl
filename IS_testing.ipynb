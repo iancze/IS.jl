{
 "metadata": {
  "language": "Julia",
  "name": ""
 },
 "nbformat": 3,
 "nbformat_minor": 0,
 "worksheets": [
  {
   "cells": [
    {
     "cell_type": "markdown",
     "metadata": {},
     "source": [
      "First, some packages you want to have. Distributions has standard distributions you might want to use. unless you want to code up your own standard distributions. For plotting, you want to add Winston."
     ]
    },
    {
     "cell_type": "code",
     "collapsed": false,
     "input": [
      "Pkg.add(\"Distributions\")\n",
      "Pkg.add(\"Winston\")\n",
      "Pkg.add(\"Gaston\")"
     ],
     "language": "python",
     "metadata": {},
     "outputs": [
      {
       "output_type": "stream",
       "stream": "stderr",
       "text": [
        "INFO: Nothing to be done."
       ]
      },
      {
       "output_type": "stream",
       "stream": "stderr",
       "text": [
        "\n",
        "INFO: "
       ]
      },
      {
       "output_type": "stream",
       "stream": "stderr",
       "text": [
        "Nothing to be done.\n"
       ]
      }
     ],
     "prompt_number": 1
    },
    {
     "cell_type": "markdown",
     "metadata": {},
     "source": [
      "We're doing importance sampling, so we want to draw from some undrawable distribution \"f\" using another distrubition \"g\" that we know how to draw from.\n",
      "\n",
      "Set your parameters here (e.g.number of samples, mean vector and covariance matrix) here. \"eye(ndim)\" creates an ndim x ndim identity matrix."
     ]
    },
    {
     "cell_type": "code",
     "collapsed": false,
     "input": [
      "using Distributions\n",
      "using Winston\n",
      "\n",
      "ndim = 2\n",
      "nSamples = 10000\n",
      "\n",
      "mu = zeros(ndim) #array of ndim zeroes\n",
      "sig = eye(ndim) * 0.8"
     ],
     "language": "python",
     "metadata": {},
     "outputs": [
      {
       "output_type": "stream",
       "stream": "stderr",
       "text": [
        "Warning: Possible conflict in library symbol dtrtri_\n",
        "Warning: Possible conflict in library symbol dgetri_\n"
       ]
      },
      {
       "metadata": {},
       "output_type": "pyout",
       "prompt_number": 43,
       "text": [
        "2x2 Array{Float64,2}:\n",
        " 0.8  0.0\n",
        " 0.0  0.8"
       ]
      }
     ],
     "prompt_number": 43
    },
    {
     "cell_type": "markdown",
     "metadata": {},
     "source": [
      "Alright, now let's construct the distribution we AREN'T able to sample from (fDist), and the distribution we ARE able to sample from (gDist). For simplicity, I'm making fDist a slightly different multivariate normal  (which we can draw from), but you can drop in whatever function you want.\n",
      "\n",
      "We'll sample from gDist (samplesFromG) and evaluate fDist and gDist at these values using f(x) and g(x)."
     ]
    },
    {
     "cell_type": "code",
     "collapsed": false,
     "input": [
      "fDist = MvNormal(mu,2*sig)\n",
      "gDist = MvNormal(mu,sig)\n",
      "\n",
      "samplesFromG = rand(gDist, nSamples)\n",
      "\n",
      "f(x) = pdf(fDist,x)\n",
      "g(x) = pdf(gDist,x)\n",
      "\n",
      "sum(f(samplesFromG)./g(samplesFromG))/nSamples\n",
      "\n",
      "#h = Histogram(f(samplesFromG)/g(samplesFromG))"
     ],
     "language": "python",
     "metadata": {},
     "outputs": [
      {
       "ename": "LoadError",
       "evalue": "no method Histogram(Array{Float64,2},)\nat In[58]:10",
       "output_type": "pyerr",
       "traceback": [
        "no method Histogram(Array{Float64,2},)\nat In[58]:10"
       ]
      }
     ],
     "prompt_number": 58
    },
    {
     "cell_type": "code",
     "collapsed": false,
     "input": [
      "# Under construction\n",
      "\n",
      "function likelihoodFunction(theta::Array{Float64,2}, sigF::Array{Float64,2})\n",
      "  ndim = size(theta,1)\n",
      "  ndata = size(theta,2)\n",
      "  mu = [ mean(theta[i,:]) for i in 1:ndim ]\n",
      "  likelihood = (2*pi)^(-ndim/2) * det(sigF)^(-0.5) * exp(-*(*(theta-mu,inv(sigF)),transpose(theta-mu) ))\n",
      "end\n"
     ],
     "language": "python",
     "metadata": {},
     "outputs": []
    }
   ],
   "metadata": {}
  }
 ]
}